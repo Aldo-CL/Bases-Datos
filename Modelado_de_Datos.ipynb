{
  "nbformat": 4,
  "nbformat_minor": 0,
  "metadata": {
    "colab": {
      "provenance": []
    },
    "kernelspec": {
      "name": "python3",
      "display_name": "Python 3"
    },
    "language_info": {
      "name": "python"
    }
  },
  "cells": [
    {
      "cell_type": "markdown",
      "source": [],
      "metadata": {
        "id": "8hYy5DosnO_U"
      }
    },
    {
      "cell_type": "markdown",
      "source": [
        "**Club del Libro**`\n",
        "\n",
        "En esta clase, Martha se une al Club del Libro para estructurar su base de datos en expansión. Antes de elegir un software específico, Martha propone reunirse con el equipo para entender el negocio y los requisitos del Club del Libro. El objetivo es crear un modelo conceptual que permita visualizar y conceptualizar las necesidades del cliente antes de preocuparse por el SGBD (Sistema de Gestión de Bases de Datos)."
      ],
      "metadata": {
        "id": "1eDKJuElMXDB"
      }
    },
    {
      "cell_type": "markdown",
      "source": [
        "\n",
        "**Para saber más: diferencia entre modelos**\n",
        "\n",
        "\n",
        "El modelado de datos es uno de los procesos más importantes al trabajar en un proyecto de base de datos. Durante este proceso, los datos se recopilan, se tratan y se estructuran para crear una base sólida que permita construir una base de datos eficiente.\n",
        "\n",
        "Además del modelo conceptual, que se utiliza para comprender los requisitos del sistema y explorar las estructuras y conceptos del negocio, también podemos trabajar con otros dos modelos: el lógico y el físico.\n",
        "\n",
        "El modelo lógico se crea para describir cómo se almacenarán los datos en el sistema, explorando los conceptos del dominio. En este modelo se definen las entidades, los atributos, las claves principales y foráneas, así como sus relaciones.\n",
        "\n",
        "Por otro lado, el modelo físico se utiliza para describir las tablas, sus columnas y relaciones. A diferencia del modelo lógico, este modelo emplea un lenguaje específico para su representación: SQL, el lenguaje utilizado para trabajar con bases de datos relacionales."
      ],
      "metadata": {
        "id": "oPZtj1vhMC39"
      }
    },
    {
      "cell_type": "markdown",
      "source": [
        "**Entendiendo SGBD**\n",
        "\n",
        "En esta clase, se introduce el concepto de SGBD (Sistema de Gestión de Base de Datos) y su importancia en el contexto del modelado de bases de datos. Se destaca que un SGBD es la interfaz que permite interactuar con la base de datos, facilitando la inclusión, alteración, exclusión y consulta de datos.Además, se diferencia entre el lenguaje de alto nivel (el lenguaje del usuario, utilizado en el modelado conceptual) y el lenguaje de bajo nivel (el lenguaje de máquina, más relacionado con el SGBD).El objetivo principal de la clase es comprender que, en la fase inicial del modelado de la base de datos, es más importante enfocarse en el lenguaje de alto nivel y en el diseño de una estructura inteligente que refleje los requisitos del negocio y del cliente, antes de preocuparse por el sistema de gestión de la base de datos en sí.\n",
        "\n",
        "\n"
      ],
      "metadata": {
        "id": "GE0llCMvJkeX"
      }
    },
    {
      "cell_type": "markdown",
      "source": [
        "**Escogiendo la aplicación**\n",
        "\n",
        "En esta clase, se discute la elección del software adecuado para crear un modelo conceptual de una base de datos. Aunque se puede usar cualquier software de gráficos como PowerPoint o Paint, se recomienda utilizar un software especializado para facilitar la conversión futura a un modelo lógico. El software recomendado para el proyecto es diagrams.net, una herramienta online gratuita y potente. En el próximo video, se mostrará cómo trabajar con diagrams.net para modelar la base de datos."
      ],
      "metadata": {
        "id": "kuv5FFq6M476"
      }
    },
    {
      "cell_type": "markdown",
      "source": [
        "**Herramientas para el modelaje**\n",
        "\n",
        "Es posible aplicar las técnicas de modelaje sin el uso de una herramienta CASE (Computer-Aided Software Engineering, o Ingeniería de Software Asistida por Computador), pero este trabajo manual sería bastante extenso. Además, la conversión del esquema conceptual al esquema lógico (rediseñando las formas, por ejemplo), puede tornar el trabajo exhaustivo y estresante. Al emplear una herramienta CASE logramos observar las alteraciones del modelo, conforme vamos tomando las decisiones (proceso “causa-efecto”).\n",
        "\n",
        "Pero, ¿Será que existe una herramienta CASE ideal?\n",
        "\n",
        "Una herramienta CASE necesita tener la capacidad de utilizar diversas formas geométricas para: desarrollar una buena representación visual, el diccionario de datos, la integración entre el diagrama entidad-relación y el diccionario de datos, además de posibilitar una mínima interacción con el usuario.\n",
        "\n",
        "Existen varias herramientas avanzadas disponibles en el mercado que pueden auxiliar el modelaje del banco de datos. Algunas de las más conocidas son:\n",
        "\n",
        "OracleDesigner ™ (Oracle ®): Posee una arquitectura flexible y puede ser instalada en múltiples plataformas;\n",
        "PowerDesigner ™ (Sybase ®): Es uno de los más utilizados en el mercado;\n",
        "ERWin (CA ®): Muy utilizado en el mercado, también;\n",
        "Freeware DBDesigner: Posee una gran cantidad de recursos también;\n",
        "PyDesigner: Disponible para la plataforma Linux;\n",
        "VISIO ™ (Microsoft ®): Herramienta con enfoque exclusivo para el diseño.\n",
        "Durante nuestro entrenamiento utilizaremos diagrams.net, ¿pero qué motivó esta elección? Esta herramienta posee las siguientes ventajas:\n",
        "\n",
        "Permite realizar alteraciones estructurales al modelo, a medida que el analista toma nuevas decisiones;\n",
        "Dar especial atención a los atributos y a todas sus especificaciones;\n",
        "Posibilitar una visualización más “limpia” del esquema al ocultar los atributos que no tengan relevancia en el modelo conceptual, pero que sí importan en el modelo lógico, por ejemplo;\n",
        "Posee un diccionario de datos muy completo."
      ],
      "metadata": {
        "id": "eTIjvf54OE5F"
      }
    },
    {
      "cell_type": "markdown",
      "source": [
        "**Usando Diagrams.net**\n",
        "\n",
        "En esta clase, Martha y el equipo decidieron usar diagrams.net, una herramienta gratuita en línea, para crear el esquema de la base de datos. Se accede a diagrams.net a través del navegador, sin necesidad de registrarse o descargar la aplicación.\n",
        "\n",
        "Una vez en diagrams.net, puedes elegir dónde almacenar tus diagramas (Google Drive, OneDrive, tu computador, Dropbox, GitHub, etc.) o decidirlo más tarde. Puedes renombrar el diagrama y seleccionar las herramientas específicas de \"relación de la entidad\" en la vista, para enfocarte en lo que necesitas.\n",
        "\n",
        "La interfaz se divide en tres áreas: la izquierda, con las herramientas y objetos; la central, que es el área de trabajo; y la derecha, con especificaciones del diagrama, como tamaño de la cuadrícula y estilo."
      ],
      "metadata": {
        "id": "iIoX0ULnOMSX"
      }
    },
    {
      "cell_type": "markdown",
      "source": [
        "**El mini-mundo**\n",
        "\n",
        "En esta clase, se introduce el concepto de \"Mini-mundo\" como una porción del mundo real que se analiza detalladamente para estructurar un modelo de base de datos. Se explica la \"abstracción\" como un proceso mental para aislar aspectos específicos y simplificar el análisis, ignorando detalles no esenciales.\n",
        "\n",
        "Se utilizan ejemplos como describir un caballo a alguien que nunca lo ha visto y la programación de una agenda para ilustrar cómo la abstracción permite enfocarse en detalles relevantes. Finalmente, se aplica el concepto al contexto de una e-commerce de libros, identificando entidades como clientes, libros y autores, y sus relaciones (clientes compran libros, autores escriben libros), destacando la definición de una base de datos relacional."
      ],
      "metadata": {
        "id": "F0L-kSaPTmDZ"
      }
    },
    {
      "cell_type": "markdown",
      "source": [
        "**Entrevista con los directores**\n",
        "\n",
        "En esta clase, se presenta un resumen de los requisitos del negocio del Club del Libro, obtenidos a través de una entrevista con la directiva. Los puntos clave son:\n",
        "\n",
        "Clientes: Se recolectarán datos personales de los clientes, diferenciando entre personas naturales (con RUT y DNI) y personas jurídicas (con NIT y registro único de empresa). Se almacenará nombre, dirección, teléfono y email.\n",
        "Libros: El producto principal son libros con información como título, categoría, ISBN, año de publicación, valor, casa editorial y autor.\n",
        "Editoriales: Los libros son provistos por editoriales, de las cuales se necesita el número, hasta dos teléfonos, nombre del contacto y email. Cada libro es exclusivo de una editorial.\n",
        "Pedidos: Los clientes pueden comprar uno o más libros a través de un pedido, pero siempre se debe verificar la disponibilidad en el inventario antes de confirmar la operación.\n",
        "Este resumen servirá como base para modelar la base de datos del Club del Libro.\n",
        "\n",
        "**Carta**\n",
        "\n",
        "Queremos recolectar los datos personales de nuestros **clientes**, saber si es Persona Natural o Jurídica. En el caso de persona natural, queremos su RUT y DNI, y en caso de que sea persona jurídica, queremos su NIT, y RUES. Adicionalmente, queremos recolectar y almacenar su nombre, dirección, teléfono e e-mail.\n",
        "\n",
        "El producto principal de la e-commerce son **libros**. Estos libros contienen información asociada a ellos como el título, categoría, ISBN (International Standard Book Number), año de publicación, valor, la casa editorial que hizo la publicación, y también el autor/a de la obra.\n",
        "\n",
        "Los libros son provistos por la **editorial**. Necesitamos tener el número de teléfono de la editorial (como máximo 2 números de teléfono), el nombre de contacto y el e-mail.\n",
        "\n",
        "Sabemos que no podemos tener el mismo libro viniendo de varias editoriales. El libro es exclusivo de una editorial.\n",
        "\n",
        "Nuestro cliente puede comprar uno o más libros a través de un **pedido de compra**. Sin embargo, siempre que se realice una compra necesitamos verificar en el **inventario** si el libro está o no disponible antes de efectuar la operación.\n"
      ],
      "metadata": {
        "id": "5sRKvIY6WItF"
      }
    },
    {
      "cell_type": "markdown",
      "source": [
        "**La importancia de las entrevistas**\n",
        "\n",
        "Queremos recolectar los datos personales de nuestros clientes, saber si es Persona Natural o Jurídica. En el caso de persona natural, queremos su RUT y DNI, y en caso de que sea persona jurídica, queremos su NIT, y RUES. Adicionalmente, queremos recolectar y almacenar su nombre, dirección, teléfono e e-mail.\n",
        "\n",
        "El producto principal de la e-commerce son libros. Estos libros contienen información asociada a ellos como el título, categoría, ISBN (International Standard Book Number), año de publicación, valor, la casa editorial que hizo la publicación, y también el autor/a de la obra.\n",
        "\n",
        "Los libros son provistos por la editorial. Necesitamos tener el número de teléfono de la editorial (como máximo 2 números de teléfono), el nombre de contacto y el e-mail.\n",
        "\n",
        "Sabemos que no podemos tener el mismo libro viniendo de varias editoriales. El libro es exclusivo de una editorial.\n",
        "\n",
        "Nuestro cliente puede comprar uno o más libros a través de un pedido de compra. Sin embargo, siempre que se realice una compra necesitamos verificar en el inventario si el libro está o no disponible antes de efectuar la operación.\n"
      ],
      "metadata": {
        "id": "EpwegWKPZrXZ"
      }
    },
    {
      "cell_type": "markdown",
      "source": [
        "**Diferencia entre MER y DER**\n",
        "\n",
        "En esta clase, se diferencian los conceptos de Modelo Entidad-Relación (MER) y Diagrama Entidad-Relación (DER). El MER es un modelo conceptual abstracto que describe los objetos, sus características y cómo se relacionan, mientras que el DER es la representación gráfica de ese modelo, facilitando la comunicación entre los miembros del equipo. Se utilizará la herramienta online diagrams.net para crear el diagrama a partir de la entrevista de Martha con los directivos del Club del Libro."
      ],
      "metadata": {
        "id": "28DxMM8aas3t"
      }
    },
    {
      "cell_type": "markdown",
      "source": [
        "**Que son las entidades**\n",
        "\n",
        "En esta clase, aprendimos sobre las entidades en el modelado de bases de datos. Aquí tienes un resumen:\n",
        "\n",
        "¿Qué es una entidad? Es un objeto único en el mundo real, que puede ser una cosa o una persona.\n",
        "Cómo identificar una entidad: Podemos usar artículos como \"el\", \"la\", \"los\", \"las\", \"un\", \"una\" para determinar si algo es una entidad. Por ejemplo, \"los clientes\" y \"la empresa\" son entidades.\n",
        "Tipos de entidades: Pueden ser abstractas (como un departamento) o tangibles (como un carro).\n",
        "Representación: En los diagramas, las entidades se representan con rectángulos.\n",
        "Entidades fuertes y débiles: Existen dos tipos, y en la próxima clase veremos la diferencia."
      ],
      "metadata": {
        "id": "K2S1so4nbsIK"
      }
    },
    {
      "cell_type": "markdown",
      "source": [
        "**Entidad fuerte vs entidad debil**\n",
        "\n",
        "En esta clase, se explica la diferencia entre entidades fuertes y débiles en el modelado de bases de datos.\n",
        "\n",
        "Entidad Fuerte: Existe de forma independiente y no necesita de otras entidades para su existencia. Tiene un atributo exclusivo llamado clave principal.\n",
        "Entidad Débil: Depende de la existencia de otra entidad. No tiene una clave principal propia, sino una clave parcial que se complementa con la clave principal de la entidad de la que depende.\n",
        "Se utiliza el ejemplo de \"Empleado\" (entidad fuerte) y \"Dependiente del Empleado\" (entidad débil) para ilustrar este concepto. También se menciona el ejemplo de \"Cliente\" (entidad fuerte) y \"Pedido de Compra\" (entidad débil).\n",
        "\n",
        "Además, se muestra cómo se representan las entidades débiles en un diagrama de base de datos, utilizando un rectángulo dentro de otro rectángulo."
      ],
      "metadata": {
        "id": "ORB_tODxbsom"
      }
    },
    {
      "cell_type": "markdown",
      "source": [
        "**Entidades en el DER**\n",
        "\n",
        "En esta clase, se identifican las entidades en el texto de la entrevista realizada por Martha. Se destacan las entidades \"clientes\", \"libros\", \"editorial\", \"pedido de compra\" e \"inventario\". Se explica que una entidad es un sustantivo y se prepara el terreno para determinar cuáles de estas entidades son fuertes y cuáles son débiles en el diagrama de entidad-relación."
      ],
      "metadata": {
        "id": "y2A_AwAVdMVI"
      }
    },
    {
      "cell_type": "markdown",
      "source": [],
      "metadata": {
        "id": "xl4KCiMkqVkH"
      }
    }
  ]
}